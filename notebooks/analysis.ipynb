{
 "cells": [
  {
   "cell_type": "markdown",
   "metadata": {},
   "source": [
    "## Forecasting project"
   ]
  },
  {
   "cell_type": "code",
   "execution_count": 56,
   "metadata": {},
   "outputs": [],
   "source": [
    "import pandas as pd\n",
    "import numpy as np\n",
    "import matplotlib.pyplot as plt\n",
    "import seaborn as sns\n",
    "import warnings\n",
    "import missingno as msno\n",
    "warnings.filterwarnings('ignore')"
   ]
  },
  {
   "cell_type": "code",
   "execution_count": 31,
   "metadata": {},
   "outputs": [
    {
     "name": "stdout",
     "output_type": "stream",
     "text": [
      "c:\\MyFiles\\PeakHackathon\\data\\Dataset.csv\n"
     ]
    }
   ],
   "source": [
    "from pathlib import Path\n",
    "import os \n",
    "current_dir = os.getcwd()\n",
    "data_path = current_dir.replace(\"notebooks\", \"data\")\n",
    "data_path = data_path + \"\\Dataset.csv\"\n",
    "print(data_path)"
   ]
  },
  {
   "cell_type": "markdown",
   "metadata": {},
   "source": [
    "I had some errors with loading the csv (probably of some German character), so I want to see what encoding I should use to make it work."
   ]
  },
  {
   "cell_type": "code",
   "execution_count": 32,
   "metadata": {},
   "outputs": [
    {
     "name": "stdout",
     "output_type": "stream",
     "text": [
      "Windows-1252\n"
     ]
    }
   ],
   "source": [
    "import chardet\n",
    "\n",
    "# Read the file in binary mode\n",
    "with open(data_path, 'rb') as f:\n",
    "    result = chardet.detect(f.read())\n",
    "    print(result['encoding'])"
   ]
  },
  {
   "cell_type": "markdown",
   "metadata": {},
   "source": [
    "## Data familarization"
   ]
  },
  {
   "cell_type": "code",
   "execution_count": 61,
   "metadata": {},
   "outputs": [],
   "source": [
    "df = pd.read_csv(data_path, encoding='Windows-1252')"
   ]
  },
  {
   "cell_type": "code",
   "execution_count": 62,
   "metadata": {},
   "outputs": [
    {
     "name": "stdout",
     "output_type": "stream",
     "text": [
      "<class 'pandas.core.frame.DataFrame'>\n",
      "RangeIndex: 32484 entries, 0 to 32483\n",
      "Data columns (total 21 columns):\n",
      " #   Column         Non-Null Count  Dtype  \n",
      "---  ------         --------------  -----  \n",
      " 0   Row ID         32484 non-null  object \n",
      " 1   Order ID       32484 non-null  object \n",
      " 2   Order Date     32484 non-null  object \n",
      " 3   Ship Date      32484 non-null  object \n",
      " 4   Ship Mode      32484 non-null  object \n",
      " 5   Customer ID    32484 non-null  object \n",
      " 6   Customer Name  32484 non-null  object \n",
      " 7   Segment        32484 non-null  object \n",
      " 8   Country        32484 non-null  object \n",
      " 9   City           32484 non-null  object \n",
      " 10  State          32484 non-null  object \n",
      " 11  Postal Code    32482 non-null  object \n",
      " 12  Region         32484 non-null  object \n",
      " 13  Product ID     32484 non-null  object \n",
      " 14  Category       32484 non-null  object \n",
      " 15  Sub-Category   32484 non-null  object \n",
      " 16  Product Name   32484 non-null  object \n",
      " 17  Sales          32484 non-null  float64\n",
      " 18  Quantity       32484 non-null  int64  \n",
      " 19  Discount       32484 non-null  float64\n",
      " 20  Profit         32484 non-null  float64\n",
      "dtypes: float64(3), int64(1), object(17)\n",
      "memory usage: 5.2+ MB\n"
     ]
    }
   ],
   "source": [
    "df.info()"
   ]
  },
  {
   "cell_type": "code",
   "execution_count": 63,
   "metadata": {},
   "outputs": [
    {
     "data": {
      "text/plain": [
       "Index(['Row ID', 'Order ID', 'Order Date', 'Ship Date', 'Ship Mode',\n",
       "       'Customer ID', 'Customer Name', 'Segment', 'Country', 'City', 'State',\n",
       "       'Postal Code', 'Region', 'Product ID', 'Category', 'Sub-Category',\n",
       "       'Product Name', 'Sales', 'Quantity', 'Discount', 'Profit'],\n",
       "      dtype='object')"
      ]
     },
     "execution_count": 63,
     "metadata": {},
     "output_type": "execute_result"
    }
   ],
   "source": [
    "df.columns"
   ]
  },
  {
   "cell_type": "code",
   "execution_count": 64,
   "metadata": {},
   "outputs": [
    {
     "data": {
      "text/html": [
       "<div>\n",
       "<style scoped>\n",
       "    .dataframe tbody tr th:only-of-type {\n",
       "        vertical-align: middle;\n",
       "    }\n",
       "\n",
       "    .dataframe tbody tr th {\n",
       "        vertical-align: top;\n",
       "    }\n",
       "\n",
       "    .dataframe thead th {\n",
       "        text-align: right;\n",
       "    }\n",
       "</style>\n",
       "<table border=\"1\" class=\"dataframe\">\n",
       "  <thead>\n",
       "    <tr style=\"text-align: right;\">\n",
       "      <th></th>\n",
       "      <th>Row ID</th>\n",
       "      <th>Order ID</th>\n",
       "      <th>Order Date</th>\n",
       "      <th>Ship Date</th>\n",
       "      <th>Ship Mode</th>\n",
       "      <th>Customer ID</th>\n",
       "      <th>Customer Name</th>\n",
       "      <th>Segment</th>\n",
       "      <th>Country</th>\n",
       "      <th>City</th>\n",
       "      <th>...</th>\n",
       "      <th>Postal Code</th>\n",
       "      <th>Region</th>\n",
       "      <th>Product ID</th>\n",
       "      <th>Category</th>\n",
       "      <th>Sub-Category</th>\n",
       "      <th>Product Name</th>\n",
       "      <th>Sales</th>\n",
       "      <th>Quantity</th>\n",
       "      <th>Discount</th>\n",
       "      <th>Profit</th>\n",
       "    </tr>\n",
       "  </thead>\n",
       "  <tbody>\n",
       "    <tr>\n",
       "      <th>0</th>\n",
       "      <td>#NAME?</td>\n",
       "      <td>US-2019-103800</td>\n",
       "      <td>03/01/2019</td>\n",
       "      <td>07/01/2019</td>\n",
       "      <td>Standard Class</td>\n",
       "      <td>DP-13000</td>\n",
       "      <td>Darren Powers</td>\n",
       "      <td>Consumer</td>\n",
       "      <td>United States</td>\n",
       "      <td>Houston</td>\n",
       "      <td>...</td>\n",
       "      <td>77095</td>\n",
       "      <td>Central</td>\n",
       "      <td>OFF-PA-10000174</td>\n",
       "      <td>Office Supplies</td>\n",
       "      <td>Paper</td>\n",
       "      <td>Message Book, Wirebound, Four 5 1/2\" X 4\" Form...</td>\n",
       "      <td>16.448</td>\n",
       "      <td>2</td>\n",
       "      <td>0.2</td>\n",
       "      <td>5.5512</td>\n",
       "    </tr>\n",
       "    <tr>\n",
       "      <th>1</th>\n",
       "      <td>#NAME?</td>\n",
       "      <td>US-2019-112326</td>\n",
       "      <td>04/01/2019</td>\n",
       "      <td>08/01/2019</td>\n",
       "      <td>Standard Class</td>\n",
       "      <td>PO-19195</td>\n",
       "      <td>Phillina Ober</td>\n",
       "      <td>Home Office</td>\n",
       "      <td>United States</td>\n",
       "      <td>Naperville</td>\n",
       "      <td>...</td>\n",
       "      <td>60540</td>\n",
       "      <td>Central</td>\n",
       "      <td>OFF-BI-10004094</td>\n",
       "      <td>Office Supplies</td>\n",
       "      <td>Binders</td>\n",
       "      <td>GBC Standard Plastic Binding Systems Combs</td>\n",
       "      <td>3.540</td>\n",
       "      <td>2</td>\n",
       "      <td>0.8</td>\n",
       "      <td>-5.4870</td>\n",
       "    </tr>\n",
       "    <tr>\n",
       "      <th>2</th>\n",
       "      <td>#NAME?</td>\n",
       "      <td>US-2019-112326</td>\n",
       "      <td>04/01/2019</td>\n",
       "      <td>08/01/2019</td>\n",
       "      <td>Standard Class</td>\n",
       "      <td>PO-19195</td>\n",
       "      <td>Phillina Ober</td>\n",
       "      <td>Home Office</td>\n",
       "      <td>United States</td>\n",
       "      <td>Naperville</td>\n",
       "      <td>...</td>\n",
       "      <td>60540</td>\n",
       "      <td>Central</td>\n",
       "      <td>OFF-LA-10003223</td>\n",
       "      <td>Office Supplies</td>\n",
       "      <td>Labels</td>\n",
       "      <td>Avery 508</td>\n",
       "      <td>11.784</td>\n",
       "      <td>3</td>\n",
       "      <td>0.2</td>\n",
       "      <td>4.2717</td>\n",
       "    </tr>\n",
       "    <tr>\n",
       "      <th>3</th>\n",
       "      <td>#NAME?</td>\n",
       "      <td>US-2019-112326</td>\n",
       "      <td>04/01/2019</td>\n",
       "      <td>08/01/2019</td>\n",
       "      <td>Standard Class</td>\n",
       "      <td>PO-19195</td>\n",
       "      <td>Phillina Ober</td>\n",
       "      <td>Home Office</td>\n",
       "      <td>United States</td>\n",
       "      <td>Naperville</td>\n",
       "      <td>...</td>\n",
       "      <td>60540</td>\n",
       "      <td>Central</td>\n",
       "      <td>OFF-ST-10002743</td>\n",
       "      <td>Office Supplies</td>\n",
       "      <td>Storage</td>\n",
       "      <td>SAFCO Boltless Steel Shelving</td>\n",
       "      <td>272.736</td>\n",
       "      <td>3</td>\n",
       "      <td>0.2</td>\n",
       "      <td>-64.7748</td>\n",
       "    </tr>\n",
       "    <tr>\n",
       "      <th>4</th>\n",
       "      <td>#NAME?</td>\n",
       "      <td>US-2019-141817</td>\n",
       "      <td>05/01/2019</td>\n",
       "      <td>12/01/2019</td>\n",
       "      <td>Standard Class</td>\n",
       "      <td>MB-18085</td>\n",
       "      <td>Mick Brown</td>\n",
       "      <td>Consumer</td>\n",
       "      <td>United States</td>\n",
       "      <td>Philadelphia</td>\n",
       "      <td>...</td>\n",
       "      <td>19143</td>\n",
       "      <td>East</td>\n",
       "      <td>OFF-AR-10003478</td>\n",
       "      <td>Office Supplies</td>\n",
       "      <td>Art</td>\n",
       "      <td>Avery Hi-Liter EverBold Pen Style Fluorescent ...</td>\n",
       "      <td>19.536</td>\n",
       "      <td>3</td>\n",
       "      <td>0.2</td>\n",
       "      <td>4.8840</td>\n",
       "    </tr>\n",
       "  </tbody>\n",
       "</table>\n",
       "<p>5 rows × 21 columns</p>\n",
       "</div>"
      ],
      "text/plain": [
       "   Row ID        Order ID  Order Date   Ship Date       Ship Mode Customer ID  \\\n",
       "0  #NAME?  US-2019-103800  03/01/2019  07/01/2019  Standard Class    DP-13000   \n",
       "1  #NAME?  US-2019-112326  04/01/2019  08/01/2019  Standard Class    PO-19195   \n",
       "2  #NAME?  US-2019-112326  04/01/2019  08/01/2019  Standard Class    PO-19195   \n",
       "3  #NAME?  US-2019-112326  04/01/2019  08/01/2019  Standard Class    PO-19195   \n",
       "4  #NAME?  US-2019-141817  05/01/2019  12/01/2019  Standard Class    MB-18085   \n",
       "\n",
       "   Customer Name      Segment        Country          City  ... Postal Code  \\\n",
       "0  Darren Powers     Consumer  United States       Houston  ...       77095   \n",
       "1  Phillina Ober  Home Office  United States    Naperville  ...       60540   \n",
       "2  Phillina Ober  Home Office  United States    Naperville  ...       60540   \n",
       "3  Phillina Ober  Home Office  United States    Naperville  ...       60540   \n",
       "4     Mick Brown     Consumer  United States  Philadelphia  ...       19143   \n",
       "\n",
       "    Region       Product ID         Category Sub-Category  \\\n",
       "0  Central  OFF-PA-10000174  Office Supplies        Paper   \n",
       "1  Central  OFF-BI-10004094  Office Supplies      Binders   \n",
       "2  Central  OFF-LA-10003223  Office Supplies       Labels   \n",
       "3  Central  OFF-ST-10002743  Office Supplies      Storage   \n",
       "4     East  OFF-AR-10003478  Office Supplies          Art   \n",
       "\n",
       "                                        Product Name    Sales  Quantity  \\\n",
       "0  Message Book, Wirebound, Four 5 1/2\" X 4\" Form...   16.448         2   \n",
       "1         GBC Standard Plastic Binding Systems Combs    3.540         2   \n",
       "2                                          Avery 508   11.784         3   \n",
       "3                      SAFCO Boltless Steel Shelving  272.736         3   \n",
       "4  Avery Hi-Liter EverBold Pen Style Fluorescent ...   19.536         3   \n",
       "\n",
       "   Discount   Profit  \n",
       "0       0.2   5.5512  \n",
       "1       0.8  -5.4870  \n",
       "2       0.2   4.2717  \n",
       "3       0.2 -64.7748  \n",
       "4       0.2   4.8840  \n",
       "\n",
       "[5 rows x 21 columns]"
      ]
     },
     "execution_count": 64,
     "metadata": {},
     "output_type": "execute_result"
    }
   ],
   "source": [
    "df.head()"
   ]
  },
  {
   "cell_type": "code",
   "execution_count": 65,
   "metadata": {},
   "outputs": [],
   "source": [
    "df = df.drop(\"Row ID\", axis=1)"
   ]
  },
  {
   "cell_type": "code",
   "execution_count": 66,
   "metadata": {},
   "outputs": [
    {
     "data": {
      "text/plain": [
       "Index(['Order ID', 'Order Date', 'Ship Date', 'Ship Mode', 'Customer ID',\n",
       "       'Customer Name', 'Segment', 'Country', 'City', 'State', 'Postal Code',\n",
       "       'Region', 'Product ID', 'Category', 'Sub-Category', 'Product Name',\n",
       "       'Sales', 'Quantity', 'Discount', 'Profit'],\n",
       "      dtype='object')"
      ]
     },
     "execution_count": 66,
     "metadata": {},
     "output_type": "execute_result"
    }
   ],
   "source": [
    "df.columns"
   ]
  },
  {
   "cell_type": "code",
   "execution_count": 67,
   "metadata": {},
   "outputs": [
    {
     "name": "stdout",
     "output_type": "stream",
     "text": [
      "<class 'pandas.core.frame.DataFrame'>\n",
      "RangeIndex: 32484 entries, 0 to 32483\n",
      "Data columns (total 20 columns):\n",
      " #   Column         Non-Null Count  Dtype  \n",
      "---  ------         --------------  -----  \n",
      " 0   Order ID       32484 non-null  object \n",
      " 1   Order Date     32484 non-null  object \n",
      " 2   Ship Date      32484 non-null  object \n",
      " 3   Ship Mode      32484 non-null  object \n",
      " 4   Customer ID    32484 non-null  object \n",
      " 5   Customer Name  32484 non-null  object \n",
      " 6   Segment        32484 non-null  object \n",
      " 7   Country        32484 non-null  object \n",
      " 8   City           32484 non-null  object \n",
      " 9   State          32484 non-null  object \n",
      " 10  Postal Code    32482 non-null  object \n",
      " 11  Region         32484 non-null  object \n",
      " 12  Product ID     32484 non-null  object \n",
      " 13  Category       32484 non-null  object \n",
      " 14  Sub-Category   32484 non-null  object \n",
      " 15  Product Name   32484 non-null  object \n",
      " 16  Sales          32484 non-null  float64\n",
      " 17  Quantity       32484 non-null  int64  \n",
      " 18  Discount       32484 non-null  float64\n",
      " 19  Profit         32484 non-null  float64\n",
      "dtypes: float64(3), int64(1), object(16)\n",
      "memory usage: 5.0+ MB\n"
     ]
    }
   ],
   "source": [
    "df.info()"
   ]
  },
  {
   "cell_type": "code",
   "execution_count": 68,
   "metadata": {},
   "outputs": [
    {
     "name": "stdout",
     "output_type": "stream",
     "text": [
      "Could not convert Order ID to numeric\n",
      "Could not convert Order ID to date time\n",
      "Could not convert Order Date to numeric\n",
      "Could not convert Order Date to date time\n",
      "Could not convert Ship Date to numeric\n",
      "Could not convert Ship Date to date time\n",
      "Could not convert Ship Mode to numeric\n",
      "Could not convert Ship Mode to date time\n",
      "Could not convert Customer ID to numeric\n",
      "Could not convert Customer ID to date time\n",
      "Could not convert Customer Name to numeric\n",
      "Could not convert Customer Name to date time\n",
      "Could not convert Segment to numeric\n",
      "Could not convert Segment to date time\n",
      "Could not convert Country to numeric\n",
      "Could not convert Country to date time\n",
      "Could not convert City to numeric\n",
      "Could not convert City to date time\n",
      "Could not convert State to numeric\n",
      "Could not convert State to date time\n",
      "Could not convert Postal Code to numeric\n",
      "Could not convert Postal Code to date time\n",
      "Could not convert Region to numeric\n",
      "Could not convert Region to date time\n",
      "Could not convert Product ID to numeric\n",
      "Could not convert Product ID to date time\n",
      "Could not convert Category to numeric\n",
      "Could not convert Category to date time\n",
      "Could not convert Sub-Category to numeric\n",
      "Could not convert Sub-Category to date time\n",
      "Could not convert Product Name to numeric\n",
      "Could not convert Product Name to date time\n"
     ]
    }
   ],
   "source": [
    "for c in df.columns:\n",
    "    try:\n",
    "        df[c] = df[c].astype(float)\n",
    "    except:\n",
    "        print(f\"Could not convert {c} to numeric\")\n",
    "        try:\n",
    "                df[c] = pd.to_datetime(df[c])\n",
    "        except:\n",
    "            print(f\"Could not convert {c} to date time\")\n",
    "    \n",
    "        "
   ]
  },
  {
   "cell_type": "code",
   "execution_count": 69,
   "metadata": {},
   "outputs": [
    {
     "name": "stdout",
     "output_type": "stream",
     "text": [
      "<class 'pandas.core.frame.DataFrame'>\n",
      "RangeIndex: 32484 entries, 0 to 32483\n",
      "Data columns (total 20 columns):\n",
      " #   Column         Non-Null Count  Dtype  \n",
      "---  ------         --------------  -----  \n",
      " 0   Order ID       32484 non-null  object \n",
      " 1   Order Date     32484 non-null  object \n",
      " 2   Ship Date      32484 non-null  object \n",
      " 3   Ship Mode      32484 non-null  object \n",
      " 4   Customer ID    32484 non-null  object \n",
      " 5   Customer Name  32484 non-null  object \n",
      " 6   Segment        32484 non-null  object \n",
      " 7   Country        32484 non-null  object \n",
      " 8   City           32484 non-null  object \n",
      " 9   State          32484 non-null  object \n",
      " 10  Postal Code    32482 non-null  object \n",
      " 11  Region         32484 non-null  object \n",
      " 12  Product ID     32484 non-null  object \n",
      " 13  Category       32484 non-null  object \n",
      " 14  Sub-Category   32484 non-null  object \n",
      " 15  Product Name   32484 non-null  object \n",
      " 16  Sales          32484 non-null  float64\n",
      " 17  Quantity       32484 non-null  float64\n",
      " 18  Discount       32484 non-null  float64\n",
      " 19  Profit         32484 non-null  float64\n",
      "dtypes: float64(4), object(16)\n",
      "memory usage: 5.0+ MB\n"
     ]
    }
   ],
   "source": [
    "df.info()"
   ]
  },
  {
   "cell_type": "code",
   "execution_count": 70,
   "metadata": {},
   "outputs": [
    {
     "data": {
      "image/png": "[encoded data removed]",
      "text/plain": [
       "<Figure size 1000x800 with 2 Axes>"
      ]
     },
     "metadata": {},
     "output_type": "display_data"
    }
   ],
   "source": [
    "numerical_data = df.select_dtypes(include='number')\n",
    "correlation_matrix = numerical_data.corr()\n",
    "\n",
    "# Plotting correlation heatmap\n",
    "plt.figure(figsize=(10, 8))\n",
    "sns.heatmap(correlation_matrix, annot=True, cmap='coolwarm', fmt=\".2f\")\n",
    "plt.title('Correlation Plot of All Numerical Values')\n",
    "plt.show()"
   ]
  },
  {
   "cell_type": "code",
   "execution_count": 74,
   "metadata": {},
   "outputs": [
    {
     "name": "stdout",
     "output_type": "stream",
     "text": [
      "Missing values in each column:\n",
      "Order ID         0\n",
      "Order Date       0\n",
      "Ship Date        0\n",
      "Ship Mode        0\n",
      "Customer ID      0\n",
      "Customer Name    0\n",
      "Segment          0\n",
      "Country          0\n",
      "City             0\n",
      "State            0\n",
      "Postal Code      2\n",
      "Region           0\n",
      "Product ID       0\n",
      "Category         0\n",
      "Sub-Category     0\n",
      "Product Name     0\n",
      "Sales            0\n",
      "Quantity         0\n",
      "Discount         0\n",
      "Profit           0\n",
      "dtype: int64\n"
     ]
    }
   ],
   "source": [
    "# Check for missing values\n",
    "missing_values = df.isnull().sum()\n",
    "\n",
    "# Display missing values\n",
    "print(\"Missing values in each column:\")\n",
    "print(missing_values)"
   ]
  },
  {
   "cell_type": "code",
   "execution_count": 72,
   "metadata": {},
   "outputs": [
    {
     "name": "stdout",
     "output_type": "stream",
     "text": [
      "Rows with missing values:\n",
      "             Order ID  Order Date   Ship Date       Ship Mode Customer ID  \\\n",
      "31527  CA-2018-162887  07/11/2018  09/11/2018    Second Class    SV-20785   \n",
      "32428  CA-2018-117086  08/11/2018  12/11/2018  Standard Class    QJ-19255   \n",
      "\n",
      "          Customer Name    Segment        Country        City    State  \\\n",
      "31527  Stewart Visinsky   Consumer  United States  Burlington  Vermont   \n",
      "32428      Quincy Jones  Corporate  United States  Burlington  Vermont   \n",
      "\n",
      "      Postal Code Region       Product ID   Category Sub-Category  \\\n",
      "31527         NaN   East  FUR-CH-10000595  Furniture       Chairs   \n",
      "32428         NaN   East  FUR-BO-10004834  Furniture    Bookcases   \n",
      "\n",
      "                                            Product Name   Sales  Quantity  \\\n",
      "31527                    Safco Contoured Stacking Chairs   715.2       3.0   \n",
      "32428  Riverside Palais Royal Lawyers Bookcase, Royal...  4404.9       5.0   \n",
      "\n",
      "       Discount    Profit  \n",
      "31527       0.0   178.800  \n",
      "32428       0.0  1013.127  \n"
     ]
    }
   ],
   "source": [
    "# Find rows with missing values\n",
    "rows_with_missing_values = df[df.isnull().any(axis=1)]\n",
    "\n",
    "# Display rows with missing values\n",
    "print(\"Rows with missing values:\")\n",
    "print(rows_with_missing_values)"
   ]
  },
  {
   "cell_type": "markdown",
   "metadata": {},
   "source": [
    "## missing values\n",
    "\n",
    "only rows 31527 and 32428 have missing values (Postal code). It may affect the grouping by postal codes."
   ]
  },
  {
   "cell_type": "code",
   "execution_count": 73,
   "metadata": {},
   "outputs": [
    {
     "name": "stdout",
     "output_type": "stream",
     "text": [
      "Order ID                          CA-2018-162887\n",
      "Order Date                            07/11/2018\n",
      "Ship Date                             09/11/2018\n",
      "Ship Mode                           Second Class\n",
      "Customer ID                             SV-20785\n",
      "Customer Name                   Stewart Visinsky\n",
      "Segment                                 Consumer\n",
      "Country                            United States\n",
      "City                                  Burlington\n",
      "State                                    Vermont\n",
      "Postal Code                                  NaN\n",
      "Region                                      East\n",
      "Product ID                       FUR-CH-10000595\n",
      "Category                               Furniture\n",
      "Sub-Category                              Chairs\n",
      "Product Name     Safco Contoured Stacking Chairs\n",
      "Sales                                      715.2\n",
      "Quantity                                     3.0\n",
      "Discount                                     0.0\n",
      "Profit                                     178.8\n",
      "Name: 31527, dtype: object\n"
     ]
    }
   ],
   "source": [
    "specific_row = df.iloc[31527]\n",
    "print(specific_row)"
   ]
  },
  {
   "cell_type": "code",
   "execution_count": 76,
   "metadata": {},
   "outputs": [
    {
     "data": {
      "image/png": "[encoded data removed]",
      "text/plain": [
       "<Figure size 1200x1000 with 4 Axes>"
      ]
     },
     "metadata": {},
     "output_type": "display_data"
    }
   ],
   "source": [
    "# Plot histograms of each column\n",
    "df.hist(figsize=(12, 10))\n",
    "plt.tight_layout()\n",
    "\n",
    "plt.show()"
   ]
  },
  {
   "cell_type": "markdown",
   "metadata": {},
   "source": [
    "## Counting values\n",
    "Now the values are counted "
   ]
  },
  {
   "cell_type": "code",
   "execution_count": 117,
   "metadata": {},
   "outputs": [],
   "source": [
    "# Show all unique values in each column\n",
    "def unique_values_dataframe(df):\n",
    "    unique_values_count = []\n",
    "\n",
    "    for column in df.columns:\n",
    "        unique_values_count.append(df[column].value_counts())\n",
    "\n",
    "    final_list = []\n",
    "    for a in unique_values_count:\n",
    "        temp = []\n",
    "        values = a.index.tolist()\n",
    "        counts = a.values.tolist()\n",
    "        for i in range(len(values)):\n",
    "            temp.append([values[i],counts[i]])\n",
    "        final_list.append(temp)\n",
    "        \n",
    "    return final_list"
   ]
  },
  {
   "cell_type": "markdown",
   "metadata": {},
   "source": [
    "Show how many unique values there are"
   ]
  },
  {
   "cell_type": "code",
   "execution_count": 119,
   "metadata": {},
   "outputs": [
    {
     "name": "stdout",
     "output_type": "stream",
     "text": [
      "Order ID : 16259\n",
      "Order Date : 3486\n",
      "Ship Date : 3716\n",
      "Ship Mode : 4\n",
      "Customer ID : 804\n",
      "Customer Name : 800\n",
      "Segment : 3\n",
      "Country : 2\n",
      "City : 542\n",
      "State : 59\n",
      "Postal Code : 706\n",
      "Region : 4\n",
      "Product ID : 1862\n",
      "Category : 3\n",
      "Sub-Category : 17\n",
      "Product Name : 1853\n",
      "Sales : 5837\n",
      "Quantity : 14\n",
      "Discount : 12\n",
      "Profit : 7334\n"
     ]
    }
   ],
   "source": [
    "unique_values_count = unique_values_dataframe(df)\n",
    "for i in range(len(unique_values_count)):\n",
    "    print(df.columns[i], \":\", len(unique_values_count[i]))"
   ]
  },
  {
   "cell_type": "code",
   "execution_count": 122,
   "metadata": {},
   "outputs": [
    {
     "name": "stdout",
     "output_type": "stream",
     "text": [
      "       Segment        Country          City         State Sub-Category  \\\n",
      "0     Consumer  United States       Houston         Texas        Paper   \n",
      "1  Home Office  United States    Naperville      Illinois      Binders   \n",
      "2  Home Office  United States    Naperville      Illinois       Labels   \n",
      "3  Home Office  United States    Naperville      Illinois      Storage   \n",
      "4     Consumer  United States  Philadelphia  Pennsylvania          Art   \n",
      "\n",
      "                                        Product Name  \n",
      "0  Message Book, Wirebound, Four 5 1/2\" X 4\" Form...  \n",
      "1         GBC Standard Plastic Binding Systems Combs  \n",
      "2                                          Avery 508  \n",
      "3                      SAFCO Boltless Steel Shelving  \n",
      "4  Avery Hi-Liter EverBold Pen Style Fluorescent ...  \n"
     ]
    }
   ],
   "source": [
    "selected_columns = ['Segment', 'Country', 'City', 'State', 'Sub-Category', 'Product Name']  # Replace with your desired column names\n",
    "selected_data = df[selected_columns]\n",
    "print(selected_data.head())\n",
    "selected_unique_values = unique_values_dataframe(selected_data)"
   ]
  },
  {
   "cell_type": "code",
   "execution_count": 113,
   "metadata": {},
   "outputs": [
    {
     "name": "stdout",
     "output_type": "stream",
     "text": [
      "           Segment        Country          City         State Sub-Category  \\\n",
      "0         Consumer  United States       Houston         Texas        Paper   \n",
      "1      Home Office  United States    Naperville      Illinois      Binders   \n",
      "2      Home Office  United States    Naperville      Illinois       Labels   \n",
      "3      Home Office  United States    Naperville      Illinois      Storage   \n",
      "4         Consumer  United States  Philadelphia  Pennsylvania          Art   \n",
      "...            ...            ...           ...           ...          ...   \n",
      "32479  Home Office  United States        Smyrna       Georgia      Binders   \n",
      "32480  Home Office  United States        Smyrna       Georgia          Art   \n",
      "32481     Consumer  United States     Lafayette     Louisiana       Tables   \n",
      "32482     Consumer  United States    Long Beach      New York       Labels   \n",
      "32483     Consumer  United States    Long Beach      New York     Supplies   \n",
      "\n",
      "                                            Product Name  \n",
      "0      Message Book, Wirebound, Four 5 1/2\" X 4\" Form...  \n",
      "1             GBC Standard Plastic Binding Systems Combs  \n",
      "2                                              Avery 508  \n",
      "3                          SAFCO Boltless Steel Shelving  \n",
      "4      Avery Hi-Liter EverBold Pen Style Fluorescent ...  \n",
      "...                                                  ...  \n",
      "32479            GBC Recycled Regency Composition Covers  \n",
      "32480  Boston Model 1800 Electric Pencil Sharpener, Gray  \n",
      "32481                         KI Adjustable-Height Table  \n",
      "32482                     Self-Adhesive Removable Labels  \n",
      "32483  Acme Hot Forged Carbon Steel Scissors with Nic...  \n",
      "\n",
      "[32484 rows x 6 columns]\n"
     ]
    }
   ],
   "source": []
  },
  {
   "cell_type": "code",
   "execution_count": 124,
   "metadata": {},
   "outputs": [
    {
     "name": "stdout",
     "output_type": "stream",
     "text": [
      "Segment : 3\n",
      "Country : 2\n",
      "City : 542\n",
      "State : 59\n",
      "Sub-Category : 17\n",
      "Product Name : 1853\n"
     ]
    }
   ],
   "source": [
    "for i in range(len(selected_unique_values)):\n",
    "    print(selected_data.columns[i], \":\", len(selected_unique_values[i]))"
   ]
  },
  {
   "cell_type": "code",
   "execution_count": null,
   "metadata": {},
   "outputs": [],
   "source": []
  }
 ],
 "metadata": {
  "kernelspec": {
   "display_name": "Python 3",
   "language": "python",
   "name": "python3"
  },
  "language_info": {
   "codemirror_mode": {
    "name": "ipython",
    "version": 3
   },
   "file_extension": ".py",
   "mimetype": "text/x-python",
   "name": "python",
   "nbconvert_exporter": "python",
   "pygments_lexer": "ipython3",
   "version": "3.10.11"
  }
 },
 "nbformat": 4,
 "nbformat_minor": 2
}
