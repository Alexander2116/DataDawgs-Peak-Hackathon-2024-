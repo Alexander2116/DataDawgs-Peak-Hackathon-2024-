{
 "cells": [
  {
   "cell_type": "markdown",
   "metadata": {},
   "source": [
    "## Forecasting project"
   ]
  },
  {
   "cell_type": "code",
   "execution_count": 18,
   "metadata": {},
   "outputs": [],
   "source": [
    "import pandas as pd\n",
    "import numpy as np\n",
    "import matplotlib.pyplot as plt\n",
    "import seaborn as sns"
   ]
  },
  {
   "cell_type": "code",
   "execution_count": 16,
   "metadata": {},
   "outputs": [
    {
     "name": "stdout",
     "output_type": "stream",
     "text": [
      "Windows-1252\n"
     ]
    }
   ],
   "source": [
    "import chardet\n",
    "\n",
    "# Read the file in binary mode\n",
    "with open('Dataset.csv', 'rb') as f:\n",
    "    result = chardet.detect(f.read())\n",
    "    print(result['encoding'])"
   ]
  },
  {
   "cell_type": "code",
   "execution_count": 20,
   "metadata": {},
   "outputs": [
    {
     "name": "stderr",
     "output_type": "stream",
     "text": [
      "C:\\Users\\a61908ak\\AppData\\Local\\Temp\\ipykernel_12188\\1283135391.py:1: DtypeWarning: Columns (0,1,2,3,4,5,6,7,8,9,10,11,12,13,14,15,16) have mixed types. Specify dtype option on import or set low_memory=False.\n",
      "  df = pd.read_csv(r\"./Dataset.csv\", encoding='Windows-1252')\n"
     ]
    }
   ],
   "source": [
    "df = pd.read_csv(r\"./Dataset.csv\", encoding='Windows-1252')"
   ]
  },
  {
   "cell_type": "code",
   "execution_count": 23,
   "metadata": {},
   "outputs": [
    {
     "name": "stdout",
     "output_type": "stream",
     "text": [
      "<class 'pandas.core.frame.DataFrame'>\n",
      "RangeIndex: 32985 entries, 0 to 32984\n",
      "Data columns (total 21 columns):\n",
      " #   Column         Non-Null Count  Dtype  \n",
      "---  ------         --------------  -----  \n",
      " 0   Row ID         32484 non-null  object \n",
      " 1   Order ID       32484 non-null  object \n",
      " 2   Order Date     32484 non-null  object \n",
      " 3   Ship Date      32484 non-null  object \n",
      " 4   Ship Mode      32484 non-null  object \n",
      " 5   Customer ID    32484 non-null  object \n",
      " 6   Customer Name  32484 non-null  object \n",
      " 7   Segment        32484 non-null  object \n",
      " 8   Country        32484 non-null  object \n",
      " 9   City           32484 non-null  object \n",
      " 10  State          32484 non-null  object \n",
      " 11  Postal Code    32482 non-null  object \n",
      " 12  Region         32484 non-null  object \n",
      " 13  Product ID     32484 non-null  object \n",
      " 14  Category       32484 non-null  object \n",
      " 15  Sub-Category   32484 non-null  object \n",
      " 16  Product Name   32484 non-null  object \n",
      " 17  Sales          32484 non-null  float64\n",
      " 18  Quantity       32484 non-null  float64\n",
      " 19  Discount       32484 non-null  float64\n",
      " 20  Profit         32484 non-null  float64\n",
      "dtypes: float64(4), object(17)\n",
      "memory usage: 5.3+ MB\n"
     ]
    }
   ],
   "source": [
    "df.info()"
   ]
  },
  {
   "cell_type": "code",
   "execution_count": 25,
   "metadata": {},
   "outputs": [
    {
     "data": {
      "text/plain": [
       "Index(['Row ID', 'Order ID', 'Order Date', 'Ship Date', 'Ship Mode',\n",
       "       'Customer ID', 'Customer Name', 'Segment', 'Country', 'City', 'State',\n",
       "       'Postal Code', 'Region', 'Product ID', 'Category', 'Sub-Category',\n",
       "       'Product Name', 'Sales', 'Quantity', 'Discount', 'Profit'],\n",
       "      dtype='object')"
      ]
     },
     "execution_count": 25,
     "metadata": {},
     "output_type": "execute_result"
    }
   ],
   "source": [
    "df.columns"
   ]
  },
  {
   "cell_type": "code",
   "execution_count": 27,
   "metadata": {},
   "outputs": [],
   "source": [
    "df = df.drop(\"Row ID\", axis=1)"
   ]
  },
  {
   "cell_type": "code",
   "execution_count": null,
   "metadata": {},
   "outputs": [],
   "source": []
  }
 ],
 "metadata": {
  "kernelspec": {
   "display_name": "Python 3",
   "language": "python",
   "name": "python3"
  },
  "language_info": {
   "codemirror_mode": {
    "name": "ipython",
    "version": 3
   },
   "file_extension": ".py",
   "mimetype": "text/x-python",
   "name": "python",
   "nbconvert_exporter": "python",
   "pygments_lexer": "ipython3",
   "version": "3.10.11"
  }
 },
 "nbformat": 4,
 "nbformat_minor": 2
}
